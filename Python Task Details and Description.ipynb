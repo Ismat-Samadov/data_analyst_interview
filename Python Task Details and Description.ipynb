{
 "cells": [
  {
   "cell_type": "markdown",
   "id": "faccfec7",
   "metadata": {},
   "source": [
    "# YELO BANK TECHNICAL SKILL TEST 🔔"
   ]
  },
  {
   "cell_type": "markdown",
   "id": "2cf30f11",
   "metadata": {},
   "source": [
    "\n",
    "\n",
    "Header | Definition\n",
    "---|---------\n",
    "`MUSTERI_NO`| id of costumer\n",
    "`BRANCH_NAME` | name of each branch\n",
    "`YASH` | age of customer  \n",
    "`LOAN_TYPE` | type of bank's loan product \n",
    "`URUN_ADI` | names of each products\n",
    "`START_DATE` | date of opened loan\n",
    "`EXPIRE_DATE` | closing date of the loan \n",
    "`DURATION` | Date of using loan\n",
    "`FAIZ` | loan interest rate(annual)\n",
    "`AMOUNT_AZN` | amount of loan\n",
    "`QALIQ` | the remaining amount of the loan\n",
    "\n"
   ]
  },
  {
   "cell_type": "markdown",
   "id": "54ef048c",
   "metadata": {},
   "source": [
    "# <center> Task 1\n"
   ]
  },
  {
   "cell_type": "markdown",
   "id": "60ef5f48",
   "metadata": {},
   "source": [
    "#### (Use loan_data.xlsx  file for Task 1) 📌"
   ]
  },
  {
   "cell_type": "markdown",
   "id": "be35a259",
   "metadata": {},
   "source": [
    "Loans report contains loan customers\n",
    "\n",
    "1. Import libraries (by indicating why it will be used in your code) and read csv files\n",
    "2. Check data types and adjust if necessary\n",
    "3. Rename \"URUN_ADI\" column to \"Product_Name; drop duplicates of the customers who have more than one loan and keep last opened loan information.\n",
    "4. Extract rows where \"MUSTERI_NO\" is NA\n",
    "5. Create a new column and find what percentage of customers have paid their loans\n",
    "6. Create a new dataframe named \"selected_customers\" with these filters:\n",
    "- Who paid more than \"60%\" of their loan\n",
    "- Age between \"25\" and \"64\"\n",
    "- Select Loan type as \"Retail\" and Urun adi as \"İstehlak krediti\" \n",
    "- Branch Name with no \"UPA\"\n",
    "7. Total sold loan in 2020,2021 and 2022"
   ]
  },
  {
   "cell_type": "markdown",
   "id": "4dcd7854",
   "metadata": {},
   "source": [
    "# <center> Task 2"
   ]
  },
  {
   "cell_type": "markdown",
   "id": "a175546c",
   "metadata": {},
   "source": [
    "\n",
    "\n",
    "Header | Definition\n",
    "---|---------\n",
    "`MUSTERI_NO`| id of costumer\n",
    "`BRANCH_NAME` | name of each branch\n",
    "`LOAN_TYPE` | type of bank's loan product \n",
    "`URUN_ADI` | names of each products\n",
    "`START_DATE` | date of opened loan\n",
    "`EXPIRE_DATE` | closing date of the loan \n",
    "`ACC_CLOSED_DATE` | the actual close date of the loan\n",
    "`DURATION` | Date of using loan\n",
    "`FAIZ` | loan interest rate(annual)\n",
    "`AMOUNT_AZN` | amount of loan\n",
    "`QALIQ` | the remaining amount of the loan\n",
    "\n"
   ]
  },
  {
   "cell_type": "markdown",
   "id": "a37e1def",
   "metadata": {},
   "source": [
    "#### (Use sales_2021.xlsx and sales_2022.xlsx files for Task 2) 📌"
   ]
  },
  {
   "cell_type": "markdown",
   "id": "992d743e",
   "metadata": {},
   "source": [
    "1. Subtract sales_2021.xlsx from sales_2022.xlsx\n",
    "2. In the new data, find the count of customers in the distribution of products(URUN_ADI) sold by each loan type by each branch\n",
    "3. Calculate each customer's bank loan count and then add it as a column to the dataframe\n",
    "4. Calculate the total of credits sold for each product in the last 6 months\n",
    "5. Create df_new dataframe specifying customers who have already closed the loan"
   ]
  },
  {
   "cell_type": "markdown",
   "id": "9b0bb7bf",
   "metadata": {},
   "source": [
    "# <center> Task 3"
   ]
  },
  {
   "cell_type": "markdown",
   "id": "20e3e0cf",
   "metadata": {},
   "source": [
    "## Outlier treatment"
   ]
  },
  {
   "cell_type": "markdown",
   "id": "b1a83d40",
   "metadata": {},
   "source": [
    "#### (Use df_new dataframe for Task 3) 📌"
   ]
  },
  {
   "cell_type": "markdown",
   "id": "dd086e06",
   "metadata": {},
   "source": [
    "For all numeric columns:\n",
    "\n",
    "1. Detect outliers, if there is any (don't use any built-in library)\n",
    "2. Remove outliers, if there is any (don't use any built-in library)\n",
    "3. Plot boxplots before and after remove outliers\n",
    "4. Sampling Distribution - Find the population mean by selecting samples from the population"
   ]
  },
  {
   "cell_type": "markdown",
   "id": "b3c5b442",
   "metadata": {},
   "source": [
    "# <center> Task 4"
   ]
  },
  {
   "cell_type": "markdown",
   "id": "0a325cad",
   "metadata": {},
   "source": [
    "#### SQL task  ==> check attached excel file "
   ]
  },
  {
   "cell_type": "markdown",
   "id": "640f5c10",
   "metadata": {},
   "source": [
    "# <center> Task 5"
   ]
  },
  {
   "cell_type": "markdown",
   "id": "ba3469d8",
   "metadata": {},
   "source": [
    "## Insight Finding 📝"
   ]
  },
  {
   "cell_type": "markdown",
   "id": "877a9080",
   "metadata": {},
   "source": [
    "Analyze and visualize data and present your findings (preferably PPT)"
   ]
  },
  {
   "cell_type": "markdown",
   "id": "ae723b50",
   "metadata": {},
   "source": [
    "Prepare the business proposal using data set provided in PYTHON task. Final presentation need to include following insights:\n",
    "\n",
    "\n",
    "1.\tCustomer Segmentations and their profile (Exp. Customer between age 25-30 majorly set to require loans between X-Y AZN with Z month period)\n",
    "2.\tTop 3 customer segments which can increase sales if targeted properly. (Exp. Students can be targeted during back to school period as they are not targeted properly and have less risk based on data)\n",
    "3.\tThe new bank product to increase the sales and cover customers need. ( Exp. Students credit X AZN with Y period can be attractive and cover majority of customer base.)\n"
   ]
  },
  {
   "cell_type": "markdown",
   "id": "a3a7bff1",
   "metadata": {},
   "source": [
    "###### Note: Business proposal need to be part of business story telling within presentation."
   ]
  },
  {
   "cell_type": "markdown",
   "id": "b6f6c6a5",
   "metadata": {},
   "source": [
    "### <center> GOOD LUCK!"
   ]
  }
 ],
 "metadata": {
  "kernelspec": {
   "display_name": "Python 3 (ipykernel)",
   "language": "python",
   "name": "python3"
  },
  "language_info": {
   "codemirror_mode": {
    "name": "ipython",
    "version": 3
   },
   "file_extension": ".py",
   "mimetype": "text/x-python",
   "name": "python",
   "nbconvert_exporter": "python",
   "pygments_lexer": "ipython3",
   "version": "3.9.7"
  }
 },
 "nbformat": 4,
 "nbformat_minor": 5
}
